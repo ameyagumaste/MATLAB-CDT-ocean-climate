{
  "nbformat": 4,
  "nbformat_minor": 0,
  "metadata": {
    "colab": {
      "provenance": [],
      "authorship_tag": "ABX9TyOoNCn69WC1gN0lK2IcG8+f",
      "include_colab_link": true
    },
    "kernelspec": {
      "name": "python3",
      "display_name": "Python 3"
    },
    "language_info": {
      "name": "python"
    }
  },
  "cells": [
    {
      "cell_type": "markdown",
      "metadata": {
        "id": "view-in-github",
        "colab_type": "text"
      },
      "source": [
        "<a href=\"https://colab.research.google.com/github/ameyagumaste/MATLAB-CDT-ocean-climate/blob/main/Creating_NetCDF%26Pandas_Data_CF_Compliant.ipynb\" target=\"_parent\"><img src=\"https://colab.research.google.com/assets/colab-badge.svg\" alt=\"Open In Colab\"/></a>"
      ]
    },
    {
      "cell_type": "code",
      "source": [
        "# Simple Arctic Ocean NetCDF Example with CF Formatting\n",
        "\n",
        "import numpy as np\n",
        "import pandas as pd\n",
        "import xarray as xr\n",
        "from datetime import datetime as dt\n",
        "\n",
        "# 1. Simulate data\n",
        "latitude = [78.5, 79.0, 79.5]        # degrees_north\n",
        "longitude = [30.0, 31.0]              # degrees_east\n",
        "depth = [0, 10, 20]                   # meters\n",
        "salinity = np.random.uniform(30, 35, size=(3, 3, 2))  # (depth, lat, lon)\n",
        "\n",
        "# 2. Create xarray Dataset\n",
        "xrds = xr.Dataset(\n",
        "    data_vars={\n",
        "        'salinity': (['depth', 'latitude', 'longitude'], salinity)\n",
        "    },\n",
        "    coords={\n",
        "        'depth': depth,\n",
        "        'latitude': latitude,\n",
        "        'longitude': longitude\n",
        "    }\n",
        ")\n",
        "\n",
        "# 3. Add attributes (global + variable-level)\n",
        "xrds.attrs = {\n",
        "    'title': 'Simple Arctic Salinity Dataset',\n",
        "    'summary': 'Simulated salinity values for Arctic profile demo.',\n",
        "    'creator_name': 'Ameya Gumaste',\n",
        "    'creator_email': 'ameyagumaste@gmail.com',\n",
        "    'institution': 'UVSQ - Université Paris-Saclay',\n",
        "    'date_created': dt.utcnow().strftime(\"%Y-%m-%dT%H:%M:%SZ\"),\n",
        "    'Conventions': 'ACDD-1.3, CF-1.8',\n",
        "    'geospatial_lat_min': min(latitude),\n",
        "    'geospatial_lat_max': max(latitude),\n",
        "    'geospatial_lon_min': min(longitude),\n",
        "    'geospatial_lon_max': max(longitude),\n",
        "    'geospatial_vertical_min': min(depth),\n",
        "    'geospatial_vertical_max': max(depth),\n",
        "    'geospatial_vertical_positive': 'down',\n",
        "    'keywords': 'salinity, Arctic Ocean, oceanography, profile, climate',\n",
        "    'license': 'https://creativecommons.org/licenses/by/4.0/',\n",
        "    'source': 'Simulated data for CF-compliant NetCDF demo',\n",
        "    'history': f'Created on {dt.utcnow().strftime(\"%Y-%m-%dT%H:%M:%SZ\")} using Python and xarray'\n",
        "}\n",
        "\n",
        "xrds['salinity'].attrs = {\n",
        "    'standard_name': 'sea_water_salinity',\n",
        "    'long_name': 'Sea Water Salinity',\n",
        "    'units': '1e-3',\n",
        "    'valid_min': 0.0,\n",
        "    'valid_max': 40.0,\n",
        "    'coordinates': 'depth latitude longitude',\n",
        "    'coverage_content_type': 'physicalMeasurement'\n",
        "}\n",
        "\n",
        "xrds['latitude'].attrs = {\n",
        "    'standard_name': 'latitude',\n",
        "    'long_name': 'Latitude',\n",
        "    'units': 'degrees_north',\n",
        "    'axis': 'Y'\n",
        "}\n",
        "xrds['longitude'].attrs = {\n",
        "    'standard_name': 'longitude',\n",
        "    'long_name': 'Longitude',\n",
        "    'units': 'degrees_east',\n",
        "    'axis': 'X'\n",
        "}\n",
        "xrds['depth'].attrs = {\n",
        "    'standard_name': 'depth',\n",
        "    'long_name': 'Depth below sea surface',\n",
        "    'units': 'meters',\n",
        "    'positive': 'down',\n",
        "    'axis': 'Z'\n",
        "}\n",
        "\n",
        "# 4. Save to NetCDF\n",
        "xrds.to_netcdf(\"simple_arctic_salinity.nc\")\n",
        "\n",
        "# 5. Convert to Pandas DataFrame\n",
        "df = xrds['salinity'].to_dataframe().reset_index()\n",
        "print(df.head())"
      ],
      "metadata": {
        "colab": {
          "base_uri": "https://localhost:8080/"
        },
        "id": "qlQh0wobwJf4",
        "outputId": "5777a939-2ec3-4113-ecf5-ea8736b8597f"
      },
      "execution_count": 8,
      "outputs": [
        {
          "output_type": "stream",
          "name": "stdout",
          "text": [
            "   depth  latitude  longitude   salinity\n",
            "0      0      78.5       30.0  34.574798\n",
            "1      0      78.5       31.0  34.250193\n",
            "2      0      79.0       30.0  32.247253\n",
            "3      0      79.0       31.0  30.477051\n",
            "4      0      79.5       30.0  31.854091\n"
          ]
        }
      ]
    }
  ]
}